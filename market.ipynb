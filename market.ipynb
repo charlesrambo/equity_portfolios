{
 "cells": [
  {
   "cell_type": "code",
   "execution_count": 16,
   "metadata": {},
   "outputs": [],
   "source": [
    "import numpy as np\n",
    "import pandas as pd\n",
    "from pandas.tseries.offsets import MonthEnd, YearEnd\n",
    "import datetime as dt\n",
    "import matplotlib.pyplot as plt\n",
    "import os\n",
    "os.chdir(\"/Users/charlesrambo/Desktop/QIII/Quantitative Asset Management\")"
   ]
  },
  {
   "cell_type": "code",
   "execution_count": 17,
   "metadata": {},
   "outputs": [],
   "source": [
    "# Load stock information\n",
    "stocks = pd.read_csv(\"stocks.csv\")"
   ]
  },
  {
   "cell_type": "code",
   "execution_count": 18,
   "metadata": {},
   "outputs": [],
   "source": [
    "# Record CRSP unkowns\n",
    "unknowns = [\"-66.0\", \"-77.0\", \"-88.0\", \"-99.0\", \"-99.99\", \"-999\", \"A\", \"B\", \"C\", \"D\", \"E\", \"S\", \"T\", \"P\"]\n",
    "\n",
    "# Create function to convert CRISP unkowns to np.nan\n",
    "convert_unknows = lambda x: np.nan if x in unknowns else x"
   ]
  },
  {
   "cell_type": "code",
   "execution_count": 19,
   "metadata": {},
   "outputs": [],
   "source": [
    "# Convert date column to date-time object\n",
    "stocks['date'] = pd.to_datetime(stocks['date'], format = '%Y%m%d')\n",
    "\n",
    "# Record observations where both returns and delisting returns are missing\n",
    "stocks['flag'] = stocks['RET'].isna() & stocks['DLRET'].isna()\n",
    "\n",
    "# Fill missing returns with 0\n",
    "stocks['RET'] = stocks['RET'].apply(convert_unknows).astype(float).fillna(0)\n",
    "\n",
    "# Fill missing delisting returns with 0\n",
    "stocks['DLRET'] = stocks['DLRET'].apply(convert_unknows).astype(float).fillna(0)\n",
    "\n",
    "# Compute cumulative returns from regular returns plus delisting returns\n",
    "stocks['RET'] = (1 + stocks['RET']) * (1 + stocks['DLRET']) - 1\n",
    "\n",
    "# Make 'stale' prices positive\n",
    "stocks['PRC'] = stocks['PRC'].abs()\n",
    "\n",
    "# Remove 0 priced observations\n",
    "stocks = stocks.loc[stocks['PRC'] > 0]\n",
    "\n",
    "# Remove non-positive shares outstanding\n",
    "stocks = stocks.loc[stocks['SHROUT'] > 0]\n",
    "\n",
    "# Only consider stocks listed on the big exchanges\n",
    "stocks = stocks.loc[stocks['SHRCD'].isin([10, 11]) & stocks['EXCHCD'].isin([1, 2, 3, 31, 32, 33])]\n",
    "\n",
    "# Drop unneeded columns\n",
    "stocks.drop(['DLRET', 'SHRCD', 'EXCHCD', 'PERMCO'], axis = 1, inplace = True)"
   ]
  },
  {
   "cell_type": "code",
   "execution_count": 20,
   "metadata": {},
   "outputs": [],
   "source": [
    "# Calculate market equity\n",
    "stocks['ME'] = stocks['PRC'] * stocks['SHROUT']\n",
    "\n",
    "# Short values for shift\n",
    "stocks.sort_values(by = ['PERMNO', 'date'], inplace = True)\n",
    "\n",
    "# Record the shifts which are valid\n",
    "stocks['Isvalid'] = stocks['date'] + MonthEnd(0) == stocks['date'].shift(1) + dt.timedelta(days = 7) + MonthEnd(0)\n",
    "stocks.loc[stocks['Isvalid'] == True, 'Isvalid'] = stocks.loc[stocks['Isvalid'] == True, 'PERMNO'] == stocks.loc[stocks['Isvalid'] == True, 'PERMNO'].shift(1)\n",
    "\n",
    "# Shift market equity\n",
    "stocks['ME_lag'] = stocks[['PERMNO', 'ME']].groupby('PERMNO')['ME'].shift(1)\n",
    "\n",
    "# Replace the invalids with nan\n",
    "stocks.loc[stocks['Isvalid'] == False, 'ME_lag'] = np.nan\n",
    "\n",
    "# Fill missing values with 0\n",
    "stocks['ME_lag'] = stocks['ME_lag'].fillna(0)\n",
    "\n",
    "# Remove observations where both returns and delisting returns are missing\n",
    "stocks = stocks.loc[~stocks['flag'], :]\n",
    "\n",
    "# Drop unneeded columns\n",
    "stocks.drop(['ME', 'Isvalid', 'flag'], axis = 1, inplace = True)"
   ]
  },
  {
   "cell_type": "code",
   "execution_count": 21,
   "metadata": {},
   "outputs": [
    {
     "data": {
      "text/html": [
       "<div>\n",
       "<style scoped>\n",
       "    .dataframe tbody tr th:only-of-type {\n",
       "        vertical-align: middle;\n",
       "    }\n",
       "\n",
       "    .dataframe tbody tr th {\n",
       "        vertical-align: top;\n",
       "    }\n",
       "\n",
       "    .dataframe thead th {\n",
       "        text-align: right;\n",
       "    }\n",
       "</style>\n",
       "<table border=\"1\" class=\"dataframe\">\n",
       "  <thead>\n",
       "    <tr style=\"text-align: right;\">\n",
       "      <th></th>\n",
       "      <th>date</th>\n",
       "      <th>RET</th>\n",
       "    </tr>\n",
       "  </thead>\n",
       "  <tbody>\n",
       "    <tr>\n",
       "      <th>0</th>\n",
       "      <td>1972-12-31</td>\n",
       "      <td>0.000000</td>\n",
       "    </tr>\n",
       "    <tr>\n",
       "      <th>1</th>\n",
       "      <td>1973-01-31</td>\n",
       "      <td>0.000000</td>\n",
       "    </tr>\n",
       "    <tr>\n",
       "      <th>2</th>\n",
       "      <td>1973-02-28</td>\n",
       "      <td>-0.044228</td>\n",
       "    </tr>\n",
       "    <tr>\n",
       "      <th>3</th>\n",
       "      <td>1973-03-31</td>\n",
       "      <td>-0.008450</td>\n",
       "    </tr>\n",
       "    <tr>\n",
       "      <th>4</th>\n",
       "      <td>1973-04-30</td>\n",
       "      <td>-0.051531</td>\n",
       "    </tr>\n",
       "  </tbody>\n",
       "</table>\n",
       "</div>"
      ],
      "text/plain": [
       "        date       RET\n",
       "0 1972-12-31  0.000000\n",
       "1 1973-01-31  0.000000\n",
       "2 1973-02-28 -0.044228\n",
       "3 1973-03-31 -0.008450\n",
       "4 1973-04-30 -0.051531"
      ]
     },
     "execution_count": 21,
     "metadata": {},
     "output_type": "execute_result"
    }
   ],
   "source": [
    "# Construct weighting\n",
    "stocks['wt'] = stocks['ME_lag']\n",
    "stocks['wt'] = stocks['wt']/stocks.groupby('date')['wt'].transform('sum')\n",
    "\n",
    "# Calculate weighted returns\n",
    "stocks['RET'] = stocks['RET'] * stocks['wt']\n",
    "\n",
    "# Calculate market returns\n",
    "mkt = stocks.groupby('date')['RET'].sum().reset_index()\n",
    "\n",
    "# Shift date so that it's always the end of the month\n",
    "mkt['date'] = mkt['date'] + MonthEnd(0)\n",
    "\n",
    "mkt.head()"
   ]
  },
  {
   "cell_type": "code",
   "execution_count": 22,
   "metadata": {},
   "outputs": [
    {
     "data": {
      "text/html": [
       "<div>\n",
       "<style scoped>\n",
       "    .dataframe tbody tr th:only-of-type {\n",
       "        vertical-align: middle;\n",
       "    }\n",
       "\n",
       "    .dataframe tbody tr th {\n",
       "        vertical-align: top;\n",
       "    }\n",
       "\n",
       "    .dataframe thead th {\n",
       "        text-align: right;\n",
       "    }\n",
       "</style>\n",
       "<table border=\"1\" class=\"dataframe\">\n",
       "  <thead>\n",
       "    <tr style=\"text-align: right;\">\n",
       "      <th></th>\n",
       "      <th>mean</th>\n",
       "      <th>sd</th>\n",
       "      <th>skew</th>\n",
       "    </tr>\n",
       "  </thead>\n",
       "  <tbody>\n",
       "    <tr>\n",
       "      <th>RET</th>\n",
       "      <td>0.009449</td>\n",
       "      <td>0.04494</td>\n",
       "      <td>-0.543878</td>\n",
       "    </tr>\n",
       "  </tbody>\n",
       "</table>\n",
       "</div>"
      ],
      "text/plain": [
       "         mean       sd      skew\n",
       "RET  0.009449  0.04494 -0.543878"
      ]
     },
     "execution_count": 22,
     "metadata": {},
     "output_type": "execute_result"
    }
   ],
   "source": [
    "stats = pd.DataFrame(index = mkt.columns[1:])\n",
    "\n",
    "# Take a look at the mean\n",
    "stats['mean'] = 12 * mkt.mean()\n",
    "\n",
    "# Take a look at the sd\n",
    "stats['sd'] = np.sqrt(12) * mkt.std()\n",
    "\n",
    "# Take a look at the skew\n",
    "stats['skew'] = 12**(3/2) * mkt.skew()\n",
    "\n",
    "stats"
   ]
  },
  {
   "cell_type": "code",
   "execution_count": 23,
   "metadata": {},
   "outputs": [
    {
     "data": {
      "image/png": "[encoded data removed]",
      "text/plain": [
       "<Figure size 1080x360 with 2 Axes>"
      ]
     },
     "metadata": {
      "needs_background": "light"
     },
     "output_type": "display_data"
    }
   ],
   "source": [
    "# Plot returns\n",
    "fig, (ax1, ax2) = plt.subplots(1, 2, figsize = (15,5))\n",
    "ax1.plot(mkt['date'], mkt['RET'])\n",
    "ax1.set_xlabel('date') \n",
    "ax1.set_ylabel('returns') \n",
    "ax1.set_title('Market returns') \n",
    "\n",
    "ax2.plot(mkt['date'], (1 + mkt['RET']).cumprod() - 1) \n",
    "ax2.set_xlabel('date') \n",
    "ax2.set_ylabel('cumlative returns') \n",
    "ax2.set_title('Market returns') \n",
    "\n",
    "plt.show()"
   ]
  },
  {
   "cell_type": "code",
   "execution_count": 24,
   "metadata": {},
   "outputs": [
    {
     "data": {
      "text/html": [
       "<div>\n",
       "<style scoped>\n",
       "    .dataframe tbody tr th:only-of-type {\n",
       "        vertical-align: middle;\n",
       "    }\n",
       "\n",
       "    .dataframe tbody tr th {\n",
       "        vertical-align: top;\n",
       "    }\n",
       "\n",
       "    .dataframe thead th {\n",
       "        text-align: right;\n",
       "    }\n",
       "</style>\n",
       "<table border=\"1\" class=\"dataframe\">\n",
       "  <thead>\n",
       "    <tr style=\"text-align: right;\">\n",
       "      <th></th>\n",
       "      <th>date</th>\n",
       "      <th>Mkt-RF</th>\n",
       "      <th>SMB</th>\n",
       "      <th>HML</th>\n",
       "      <th>RF</th>\n",
       "      <th>mkt</th>\n",
       "    </tr>\n",
       "  </thead>\n",
       "  <tbody>\n",
       "    <tr>\n",
       "      <th>0</th>\n",
       "      <td>1926-07-31</td>\n",
       "      <td>2.96</td>\n",
       "      <td>-2.30</td>\n",
       "      <td>-2.87</td>\n",
       "      <td>0.22</td>\n",
       "      <td>0.0318</td>\n",
       "    </tr>\n",
       "    <tr>\n",
       "      <th>1</th>\n",
       "      <td>1926-08-31</td>\n",
       "      <td>2.64</td>\n",
       "      <td>-1.40</td>\n",
       "      <td>4.19</td>\n",
       "      <td>0.25</td>\n",
       "      <td>0.0289</td>\n",
       "    </tr>\n",
       "    <tr>\n",
       "      <th>2</th>\n",
       "      <td>1926-09-30</td>\n",
       "      <td>0.36</td>\n",
       "      <td>-1.32</td>\n",
       "      <td>0.01</td>\n",
       "      <td>0.23</td>\n",
       "      <td>0.0059</td>\n",
       "    </tr>\n",
       "    <tr>\n",
       "      <th>3</th>\n",
       "      <td>1926-10-31</td>\n",
       "      <td>-3.24</td>\n",
       "      <td>0.04</td>\n",
       "      <td>0.51</td>\n",
       "      <td>0.32</td>\n",
       "      <td>-0.0292</td>\n",
       "    </tr>\n",
       "    <tr>\n",
       "      <th>4</th>\n",
       "      <td>1926-11-30</td>\n",
       "      <td>2.53</td>\n",
       "      <td>-0.20</td>\n",
       "      <td>-0.35</td>\n",
       "      <td>0.31</td>\n",
       "      <td>0.0284</td>\n",
       "    </tr>\n",
       "  </tbody>\n",
       "</table>\n",
       "</div>"
      ],
      "text/plain": [
       "        date  Mkt-RF   SMB   HML    RF     mkt\n",
       "0 1926-07-31    2.96 -2.30 -2.87  0.22  0.0318\n",
       "1 1926-08-31    2.64 -1.40  4.19  0.25  0.0289\n",
       "2 1926-09-30    0.36 -1.32  0.01  0.23  0.0059\n",
       "3 1926-10-31   -3.24  0.04  0.51  0.32 -0.0292\n",
       "4 1926-11-30    2.53 -0.20 -0.35  0.31  0.0284"
      ]
     },
     "execution_count": 24,
     "metadata": {},
     "output_type": "execute_result"
    }
   ],
   "source": [
    "# Load Daniel's momentum\n",
    "FF3 = pd.read_csv('FF3.csv')\n",
    "\n",
    "# Convert date to datetime object\n",
    "FF3['date'] = pd.to_datetime(FF3['date'], format = '%Y%m')\n",
    "\n",
    "# Move date to end of month\n",
    "FF3['date'] = FF3['date'] + MonthEnd(0)\n",
    "\n",
    "# Calculate Fama French market returns\n",
    "FF3['mkt'] = FF3['Mkt-RF'] + FF3['RF']\n",
    "\n",
    "# Convert to decimal\n",
    "FF3['mkt'] = FF3['mkt']/100\n",
    "\n",
    "FF3.head()"
   ]
  },
  {
   "cell_type": "code",
   "execution_count": 25,
   "metadata": {},
   "outputs": [
    {
     "data": {
      "text/plain": [
       "0.9995941576059506"
      ]
     },
     "execution_count": 25,
     "metadata": {},
     "output_type": "execute_result"
    }
   ],
   "source": [
    "# Merge with market construction\n",
    "results = mkt.merge(FF3[['date', 'mkt']], on = 'date')\n",
    "\n",
    "# See correlation\n",
    "results['RET'].corr(results['mkt'])"
   ]
  }
 ],
 "metadata": {
  "kernelspec": {
   "display_name": "Python 3",
   "language": "python",
   "name": "python3"
  },
  "language_info": {
   "codemirror_mode": {
    "name": "ipython",
    "version": 3
   },
   "file_extension": ".py",
   "mimetype": "text/x-python",
   "name": "python",
   "nbconvert_exporter": "python",
   "pygments_lexer": "ipython3",
   "version": "3.7.7"
  }
 },
 "nbformat": 4,
 "nbformat_minor": 4
}
